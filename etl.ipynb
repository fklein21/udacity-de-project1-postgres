{
 "cells": [
  {
   "cell_type": "markdown",
   "metadata": {},
   "source": [
    "# ETL Processes\n",
    "Use this notebook to develop the ETL process for each of your tables before completing the `etl.py` file to load the whole datasets."
   ]
  },
  {
   "cell_type": "code",
   "execution_count": 1,
   "metadata": {},
   "outputs": [],
   "source": [
    "import os\n",
    "import glob\n",
    "import psycopg2\n",
    "import psycopg2.extras\n",
    "import pandas as pd\n",
    "from sql_queries import *\n",
    "import  create_tables"
   ]
  },
  {
   "cell_type": "code",
   "execution_count": 2,
   "metadata": {},
   "outputs": [],
   "source": [
    "create_tables.main()"
   ]
  },
  {
   "cell_type": "code",
   "execution_count": 3,
   "metadata": {},
   "outputs": [],
   "source": [
    "conn = psycopg2.connect(\"host=127.0.0.1 dbname=sparkifydb user=student password=student\")\n",
    "cur = conn.cursor()\n",
    "# conn.set_session(autocommit=True)"
   ]
  },
  {
   "cell_type": "code",
   "execution_count": 4,
   "metadata": {},
   "outputs": [],
   "source": [
    "def get_files(filepath):\n",
    "    all_files = []\n",
    "    for root, dirs, files in os.walk(filepath):\n",
    "        files = glob.glob(os.path.join(root,'*.json'))\n",
    "        for f in files :\n",
    "            all_files.append(os.path.abspath(f))\n",
    "    \n",
    "    return all_files"
   ]
  },
  {
   "cell_type": "markdown",
   "metadata": {},
   "source": [
    "# Process `song_data`\n",
    "In this first part, you'll perform ETL on the first dataset, `song_data`, to create the `songs` and `artists` dimensional tables.\n",
    "\n",
    "Let's perform ETL on a single song file and load a single record into each table to start.\n",
    "- Use the `get_files` function provided above to get a list of all song JSON files in `data/song_data`\n",
    "- Select the first song in this list\n",
    "- Read the song file and view the data"
   ]
  },
  {
   "cell_type": "code",
   "execution_count": 5,
   "metadata": {},
   "outputs": [],
   "source": [
    "song_data_path = './data/song_data'\n",
    "song_files = get_files(song_data_path)"
   ]
  },
  {
   "cell_type": "code",
   "execution_count": 6,
   "metadata": {},
   "outputs": [
    {
     "data": {
      "text/html": [
       "<div>\n",
       "<style scoped>\n",
       "    .dataframe tbody tr th:only-of-type {\n",
       "        vertical-align: middle;\n",
       "    }\n",
       "\n",
       "    .dataframe tbody tr th {\n",
       "        vertical-align: top;\n",
       "    }\n",
       "\n",
       "    .dataframe thead th {\n",
       "        text-align: right;\n",
       "    }\n",
       "</style>\n",
       "<table border=\"1\" class=\"dataframe\">\n",
       "  <thead>\n",
       "    <tr style=\"text-align: right;\">\n",
       "      <th></th>\n",
       "      <th>num_songs</th>\n",
       "      <th>artist_id</th>\n",
       "      <th>artist_latitude</th>\n",
       "      <th>artist_longitude</th>\n",
       "      <th>artist_location</th>\n",
       "      <th>artist_name</th>\n",
       "      <th>song_id</th>\n",
       "      <th>title</th>\n",
       "      <th>duration</th>\n",
       "      <th>year</th>\n",
       "    </tr>\n",
       "  </thead>\n",
       "  <tbody>\n",
       "    <tr>\n",
       "      <th>0</th>\n",
       "      <td>1</td>\n",
       "      <td>AR7SMBG1187B9B9066</td>\n",
       "      <td>NaN</td>\n",
       "      <td>NaN</td>\n",
       "      <td></td>\n",
       "      <td>Los Manolos</td>\n",
       "      <td>SOBCOSW12A8C13D398</td>\n",
       "      <td>Rumba De Barcelona</td>\n",
       "      <td>218.38322</td>\n",
       "      <td>0</td>\n",
       "    </tr>\n",
       "    <tr>\n",
       "      <th>0</th>\n",
       "      <td>1</td>\n",
       "      <td>ARBGXIG122988F409D</td>\n",
       "      <td>37.77916</td>\n",
       "      <td>-122.42005</td>\n",
       "      <td>California - SF</td>\n",
       "      <td>Steel Rain</td>\n",
       "      <td>SOOJPRH12A8C141995</td>\n",
       "      <td>Loaded Like A Gun</td>\n",
       "      <td>173.19138</td>\n",
       "      <td>0</td>\n",
       "    </tr>\n",
       "    <tr>\n",
       "      <th>0</th>\n",
       "      <td>1</td>\n",
       "      <td>ARNNKDK1187B98BBD5</td>\n",
       "      <td>45.80726</td>\n",
       "      <td>15.96760</td>\n",
       "      <td>Zagreb Croatia</td>\n",
       "      <td>Jinx</td>\n",
       "      <td>SOFNOQK12AB01840FC</td>\n",
       "      <td>Kutt Free (DJ Volume Remix)</td>\n",
       "      <td>407.37914</td>\n",
       "      <td>0</td>\n",
       "    </tr>\n",
       "    <tr>\n",
       "      <th>0</th>\n",
       "      <td>1</td>\n",
       "      <td>ARP6N5A1187B99D1A3</td>\n",
       "      <td>NaN</td>\n",
       "      <td>NaN</td>\n",
       "      <td>Hamtramck, MI</td>\n",
       "      <td>Mitch Ryder</td>\n",
       "      <td>SOXILUQ12A58A7C72A</td>\n",
       "      <td>Jenny Take a Ride</td>\n",
       "      <td>207.43791</td>\n",
       "      <td>2004</td>\n",
       "    </tr>\n",
       "    <tr>\n",
       "      <th>0</th>\n",
       "      <td>1</td>\n",
       "      <td>AR36F9J1187FB406F1</td>\n",
       "      <td>56.27609</td>\n",
       "      <td>9.51695</td>\n",
       "      <td>Denmark</td>\n",
       "      <td>Bombay Rockers</td>\n",
       "      <td>SOBKWDJ12A8C13B2F3</td>\n",
       "      <td>Wild Rose (Back 2 Basics Mix)</td>\n",
       "      <td>230.71302</td>\n",
       "      <td>0</td>\n",
       "    </tr>\n",
       "    <tr>\n",
       "      <th>...</th>\n",
       "      <td>...</td>\n",
       "      <td>...</td>\n",
       "      <td>...</td>\n",
       "      <td>...</td>\n",
       "      <td>...</td>\n",
       "      <td>...</td>\n",
       "      <td>...</td>\n",
       "      <td>...</td>\n",
       "      <td>...</td>\n",
       "      <td>...</td>\n",
       "    </tr>\n",
       "    <tr>\n",
       "      <th>0</th>\n",
       "      <td>1</td>\n",
       "      <td>AR47JEX1187B995D81</td>\n",
       "      <td>37.83721</td>\n",
       "      <td>-94.35868</td>\n",
       "      <td>Nevada, MO</td>\n",
       "      <td>SUE THOMPSON</td>\n",
       "      <td>SOBLGCN12AB0183212</td>\n",
       "      <td>James (Hold The Ladder Steady)</td>\n",
       "      <td>124.86485</td>\n",
       "      <td>1985</td>\n",
       "    </tr>\n",
       "    <tr>\n",
       "      <th>0</th>\n",
       "      <td>1</td>\n",
       "      <td>ARNTLGG11E2835DDB9</td>\n",
       "      <td>NaN</td>\n",
       "      <td>NaN</td>\n",
       "      <td></td>\n",
       "      <td>Clp</td>\n",
       "      <td>SOZQDIU12A58A7BCF6</td>\n",
       "      <td>Superconfidential</td>\n",
       "      <td>338.31138</td>\n",
       "      <td>0</td>\n",
       "    </tr>\n",
       "    <tr>\n",
       "      <th>0</th>\n",
       "      <td>1</td>\n",
       "      <td>AR1Y2PT1187FB5B9CE</td>\n",
       "      <td>27.94017</td>\n",
       "      <td>-82.32547</td>\n",
       "      <td>Brandon</td>\n",
       "      <td>John Wesley</td>\n",
       "      <td>SOLLHMX12AB01846DC</td>\n",
       "      <td>The Emperor Falls</td>\n",
       "      <td>484.62322</td>\n",
       "      <td>0</td>\n",
       "    </tr>\n",
       "    <tr>\n",
       "      <th>0</th>\n",
       "      <td>1</td>\n",
       "      <td>ARH4Z031187B9A71F2</td>\n",
       "      <td>40.73197</td>\n",
       "      <td>-74.17418</td>\n",
       "      <td>Newark, NJ</td>\n",
       "      <td>Faye Adams</td>\n",
       "      <td>SOVYKGO12AB0187199</td>\n",
       "      <td>Crazy Mixed Up World</td>\n",
       "      <td>156.39465</td>\n",
       "      <td>1961</td>\n",
       "    </tr>\n",
       "    <tr>\n",
       "      <th>0</th>\n",
       "      <td>1</td>\n",
       "      <td>ARAJPHH1187FB5566A</td>\n",
       "      <td>40.70380</td>\n",
       "      <td>-73.83168</td>\n",
       "      <td>Queens, NY</td>\n",
       "      <td>The Shangri-Las</td>\n",
       "      <td>SOYTPEP12AB0180E7B</td>\n",
       "      <td>Twist and Shout</td>\n",
       "      <td>164.80608</td>\n",
       "      <td>1964</td>\n",
       "    </tr>\n",
       "  </tbody>\n",
       "</table>\n",
       "<p>71 rows × 10 columns</p>\n",
       "</div>"
      ],
      "text/plain": [
       "    num_songs           artist_id  artist_latitude  artist_longitude  \\\n",
       "0           1  AR7SMBG1187B9B9066              NaN               NaN   \n",
       "0           1  ARBGXIG122988F409D         37.77916        -122.42005   \n",
       "0           1  ARNNKDK1187B98BBD5         45.80726          15.96760   \n",
       "0           1  ARP6N5A1187B99D1A3              NaN               NaN   \n",
       "0           1  AR36F9J1187FB406F1         56.27609           9.51695   \n",
       "..        ...                 ...              ...               ...   \n",
       "0           1  AR47JEX1187B995D81         37.83721         -94.35868   \n",
       "0           1  ARNTLGG11E2835DDB9              NaN               NaN   \n",
       "0           1  AR1Y2PT1187FB5B9CE         27.94017         -82.32547   \n",
       "0           1  ARH4Z031187B9A71F2         40.73197         -74.17418   \n",
       "0           1  ARAJPHH1187FB5566A         40.70380         -73.83168   \n",
       "\n",
       "    artist_location      artist_name             song_id  \\\n",
       "0                        Los Manolos  SOBCOSW12A8C13D398   \n",
       "0   California - SF       Steel Rain  SOOJPRH12A8C141995   \n",
       "0    Zagreb Croatia             Jinx  SOFNOQK12AB01840FC   \n",
       "0     Hamtramck, MI      Mitch Ryder  SOXILUQ12A58A7C72A   \n",
       "0           Denmark   Bombay Rockers  SOBKWDJ12A8C13B2F3   \n",
       "..              ...              ...                 ...   \n",
       "0        Nevada, MO     SUE THOMPSON  SOBLGCN12AB0183212   \n",
       "0                                Clp  SOZQDIU12A58A7BCF6   \n",
       "0           Brandon      John Wesley  SOLLHMX12AB01846DC   \n",
       "0        Newark, NJ       Faye Adams  SOVYKGO12AB0187199   \n",
       "0        Queens, NY  The Shangri-Las  SOYTPEP12AB0180E7B   \n",
       "\n",
       "                             title   duration  year  \n",
       "0               Rumba De Barcelona  218.38322     0  \n",
       "0                Loaded Like A Gun  173.19138     0  \n",
       "0      Kutt Free (DJ Volume Remix)  407.37914     0  \n",
       "0                Jenny Take a Ride  207.43791  2004  \n",
       "0    Wild Rose (Back 2 Basics Mix)  230.71302     0  \n",
       "..                             ...        ...   ...  \n",
       "0   James (Hold The Ladder Steady)  124.86485  1985  \n",
       "0                Superconfidential  338.31138     0  \n",
       "0                The Emperor Falls  484.62322     0  \n",
       "0             Crazy Mixed Up World  156.39465  1961  \n",
       "0                  Twist and Shout  164.80608  1964  \n",
       "\n",
       "[71 rows x 10 columns]"
      ]
     },
     "execution_count": 6,
     "metadata": {},
     "output_type": "execute_result"
    }
   ],
   "source": [
    "# Read all song files into one dataframe\n",
    "df = pd.concat((pd.read_json(file, lines=True) for file in song_files))\n",
    "df"
   ]
  },
  {
   "cell_type": "code",
   "execution_count": 7,
   "metadata": {},
   "outputs": [],
   "source": [
    "# Drop rows where the song_id is identical - Not really necessary\n",
    "df = df.drop_duplicates(subset='song_id', keep='last')"
   ]
  },
  {
   "cell_type": "markdown",
   "metadata": {},
   "source": [
    "## #1: `songs` Table\n",
    "#### Extract Data for Songs Table\n",
    "- Select columns for song ID, title, artist ID, year, and duration\n",
    "- Use `df.values` to select just the values from the dataframe\n",
    "- Index to select the first (only) record in the dataframe\n",
    "- Convert the array to a list and set it to `song_data`"
   ]
  },
  {
   "cell_type": "code",
   "execution_count": 8,
   "metadata": {},
   "outputs": [
    {
     "data": {
      "text/plain": [
       "['SOBCOSW12A8C13D398',\n",
       " 'Rumba De Barcelona',\n",
       " 'AR7SMBG1187B9B9066',\n",
       " 0,\n",
       " 218.38322]"
      ]
     },
     "execution_count": 8,
     "metadata": {},
     "output_type": "execute_result"
    }
   ],
   "source": [
    "columns = ['song_id', 'title', 'artist_id', 'year', 'duration']\n",
    "song_data = list(df[columns].values[0])\n",
    "song_data"
   ]
  },
  {
   "cell_type": "code",
   "execution_count": 9,
   "metadata": {},
   "outputs": [],
   "source": [
    "title_list = list(df['title'])"
   ]
  },
  {
   "cell_type": "markdown",
   "metadata": {},
   "source": [
    "#### Insert Record into Song Table\n",
    "Implement the `song_table_insert` query in `sql_queries.py` and run the cell below to insert a record for this song into the `songs` table. Remember to run `create_tables.py` before running the cell below to ensure you've created/resetted the `songs` table in the sparkify database."
   ]
  },
  {
   "cell_type": "code",
   "execution_count": 10,
   "metadata": {},
   "outputs": [],
   "source": [
    "df_songs_data = df[columns]"
   ]
  },
  {
   "cell_type": "code",
   "execution_count": 11,
   "metadata": {},
   "outputs": [
    {
     "data": {
      "text/html": [
       "<div>\n",
       "<style scoped>\n",
       "    .dataframe tbody tr th:only-of-type {\n",
       "        vertical-align: middle;\n",
       "    }\n",
       "\n",
       "    .dataframe tbody tr th {\n",
       "        vertical-align: top;\n",
       "    }\n",
       "\n",
       "    .dataframe thead th {\n",
       "        text-align: right;\n",
       "    }\n",
       "</style>\n",
       "<table border=\"1\" class=\"dataframe\">\n",
       "  <thead>\n",
       "    <tr style=\"text-align: right;\">\n",
       "      <th></th>\n",
       "      <th>song_id</th>\n",
       "      <th>title</th>\n",
       "      <th>artist_id</th>\n",
       "      <th>year</th>\n",
       "      <th>duration</th>\n",
       "    </tr>\n",
       "  </thead>\n",
       "  <tbody>\n",
       "    <tr>\n",
       "      <th>0</th>\n",
       "      <td>SOBCOSW12A8C13D398</td>\n",
       "      <td>Rumba De Barcelona</td>\n",
       "      <td>AR7SMBG1187B9B9066</td>\n",
       "      <td>0</td>\n",
       "      <td>218.38322</td>\n",
       "    </tr>\n",
       "    <tr>\n",
       "      <th>0</th>\n",
       "      <td>SOOJPRH12A8C141995</td>\n",
       "      <td>Loaded Like A Gun</td>\n",
       "      <td>ARBGXIG122988F409D</td>\n",
       "      <td>0</td>\n",
       "      <td>173.19138</td>\n",
       "    </tr>\n",
       "    <tr>\n",
       "      <th>0</th>\n",
       "      <td>SOFNOQK12AB01840FC</td>\n",
       "      <td>Kutt Free (DJ Volume Remix)</td>\n",
       "      <td>ARNNKDK1187B98BBD5</td>\n",
       "      <td>0</td>\n",
       "      <td>407.37914</td>\n",
       "    </tr>\n",
       "    <tr>\n",
       "      <th>0</th>\n",
       "      <td>SOXILUQ12A58A7C72A</td>\n",
       "      <td>Jenny Take a Ride</td>\n",
       "      <td>ARP6N5A1187B99D1A3</td>\n",
       "      <td>2004</td>\n",
       "      <td>207.43791</td>\n",
       "    </tr>\n",
       "    <tr>\n",
       "      <th>0</th>\n",
       "      <td>SOBKWDJ12A8C13B2F3</td>\n",
       "      <td>Wild Rose (Back 2 Basics Mix)</td>\n",
       "      <td>AR36F9J1187FB406F1</td>\n",
       "      <td>0</td>\n",
       "      <td>230.71302</td>\n",
       "    </tr>\n",
       "    <tr>\n",
       "      <th>...</th>\n",
       "      <td>...</td>\n",
       "      <td>...</td>\n",
       "      <td>...</td>\n",
       "      <td>...</td>\n",
       "      <td>...</td>\n",
       "    </tr>\n",
       "    <tr>\n",
       "      <th>0</th>\n",
       "      <td>SOBLGCN12AB0183212</td>\n",
       "      <td>James (Hold The Ladder Steady)</td>\n",
       "      <td>AR47JEX1187B995D81</td>\n",
       "      <td>1985</td>\n",
       "      <td>124.86485</td>\n",
       "    </tr>\n",
       "    <tr>\n",
       "      <th>0</th>\n",
       "      <td>SOZQDIU12A58A7BCF6</td>\n",
       "      <td>Superconfidential</td>\n",
       "      <td>ARNTLGG11E2835DDB9</td>\n",
       "      <td>0</td>\n",
       "      <td>338.31138</td>\n",
       "    </tr>\n",
       "    <tr>\n",
       "      <th>0</th>\n",
       "      <td>SOLLHMX12AB01846DC</td>\n",
       "      <td>The Emperor Falls</td>\n",
       "      <td>AR1Y2PT1187FB5B9CE</td>\n",
       "      <td>0</td>\n",
       "      <td>484.62322</td>\n",
       "    </tr>\n",
       "    <tr>\n",
       "      <th>0</th>\n",
       "      <td>SOVYKGO12AB0187199</td>\n",
       "      <td>Crazy Mixed Up World</td>\n",
       "      <td>ARH4Z031187B9A71F2</td>\n",
       "      <td>1961</td>\n",
       "      <td>156.39465</td>\n",
       "    </tr>\n",
       "    <tr>\n",
       "      <th>0</th>\n",
       "      <td>SOYTPEP12AB0180E7B</td>\n",
       "      <td>Twist and Shout</td>\n",
       "      <td>ARAJPHH1187FB5566A</td>\n",
       "      <td>1964</td>\n",
       "      <td>164.80608</td>\n",
       "    </tr>\n",
       "  </tbody>\n",
       "</table>\n",
       "<p>71 rows × 5 columns</p>\n",
       "</div>"
      ],
      "text/plain": [
       "               song_id                           title           artist_id  \\\n",
       "0   SOBCOSW12A8C13D398              Rumba De Barcelona  AR7SMBG1187B9B9066   \n",
       "0   SOOJPRH12A8C141995               Loaded Like A Gun  ARBGXIG122988F409D   \n",
       "0   SOFNOQK12AB01840FC     Kutt Free (DJ Volume Remix)  ARNNKDK1187B98BBD5   \n",
       "0   SOXILUQ12A58A7C72A               Jenny Take a Ride  ARP6N5A1187B99D1A3   \n",
       "0   SOBKWDJ12A8C13B2F3   Wild Rose (Back 2 Basics Mix)  AR36F9J1187FB406F1   \n",
       "..                 ...                             ...                 ...   \n",
       "0   SOBLGCN12AB0183212  James (Hold The Ladder Steady)  AR47JEX1187B995D81   \n",
       "0   SOZQDIU12A58A7BCF6               Superconfidential  ARNTLGG11E2835DDB9   \n",
       "0   SOLLHMX12AB01846DC               The Emperor Falls  AR1Y2PT1187FB5B9CE   \n",
       "0   SOVYKGO12AB0187199            Crazy Mixed Up World  ARH4Z031187B9A71F2   \n",
       "0   SOYTPEP12AB0180E7B                 Twist and Shout  ARAJPHH1187FB5566A   \n",
       "\n",
       "    year   duration  \n",
       "0      0  218.38322  \n",
       "0      0  173.19138  \n",
       "0      0  407.37914  \n",
       "0   2004  207.43791  \n",
       "0      0  230.71302  \n",
       "..   ...        ...  \n",
       "0   1985  124.86485  \n",
       "0      0  338.31138  \n",
       "0      0  484.62322  \n",
       "0   1961  156.39465  \n",
       "0   1964  164.80608  \n",
       "\n",
       "[71 rows x 5 columns]"
      ]
     },
     "execution_count": 11,
     "metadata": {},
     "output_type": "execute_result"
    }
   ],
   "source": [
    "df_songs_data"
   ]
  },
  {
   "cell_type": "code",
   "execution_count": 12,
   "metadata": {},
   "outputs": [],
   "source": [
    "# %time\n",
    "# for _, row in df_songs_data.iterrows():\n",
    "#     # print(tuple(row.values))\n",
    "#     # continue\n",
    "#     try:\n",
    "#         cur.execute(song_table_insert, tuple(row.values))\n",
    "#         conn.commit()\n",
    "#     except psycopg2.Error as e:\n",
    "#         print(\"Error while batch-inserting the song data:\")\n",
    "#         print(e)\n",
    "# CPU times: user 3 µs, sys: 1 µs, total: 4 µs\n",
    "# Wall time: 6.2 µs"
   ]
  },
  {
   "cell_type": "code",
   "execution_count": 13,
   "metadata": {},
   "outputs": [],
   "source": [
    "def insert_df_into_table(cur, sql_query, df):\n",
    "    \"\"\"Inserting values in a dataframe into the database.\n",
    "\n",
    "    Inserts values from a dataframe into a table. \n",
    "    The dataframe can only contain the columns to be inserted.\n",
    "\n",
    "    Args:\n",
    "        cur (psycopg2.extensions.cursor): Cursor to the postgres database.\n",
    "        sql_query (str): String with the sql query.\n",
    "        df (pandas.Dataframe): Dataframe with the data to insert into the table.\n",
    "    \n",
    "    Example:\n",
    "        Inserting song data into a songs table with the columns\n",
    "        (song_id, title, artist_id, year, duration)\n",
    "        sql_query = \"INSERT INTO songs (song_id, title, artist_id, year, duration)\\\n",
    "                     VALUES %s\\\n",
    "                     ON CONFLICT (song_id)\\\n",
    "                     DO UPDATE SET title = EXCLUDED.title,\\\n",
    "                                   artist_id = EXCLUDED.artist_id,\\\n",
    "                                   year = EXCLUDED.year,\\\n",
    "                                   duration = EXCLUDED.duration;\\\n",
    "        df = pandas.Dataframe with the same columns and same data types.\n",
    "    \"\"\"\n",
    "    data = [tuple(ii) for ii in df.to_numpy()]\n",
    "\n",
    "    try:\n",
    "        psycopg2.extras.execute_values(cur, sql_query, data)\n",
    "        conn.commit()\n",
    "    except psycopg2.Error as e:\n",
    "        print(\"Error while inserting pandas.Dataframe into the table:\")\n",
    "        print(e)"
   ]
  },
  {
   "cell_type": "code",
   "execution_count": 14,
   "metadata": {},
   "outputs": [
    {
     "name": "stdout",
     "output_type": "stream",
     "text": [
      "CPU times: user 3 µs, sys: 0 ns, total: 3 µs\n",
      "Wall time: 7.15 µs\n"
     ]
    }
   ],
   "source": [
    "%time\n",
    "# song_data = [tuple(ii) for ii in df[columns].to_numpy()]\n",
    "\n",
    "# try:\n",
    "#     psycopg2.extras.execute_values(cur, song_table_batch_insert, song_data)\n",
    "#     conn.commit()\n",
    "# except psycopg2.Error as e:\n",
    "#     print(\"Error while batch-inserting the song data:\")\n",
    "#     print(e)\n",
    "insert_df_into_table(cur, song_table_batch_insert, df[columns])\n",
    "conn.commit()\n",
    "# CPU times: user 2 µs, sys: 0 ns, total: 2 µs\n",
    "# Wall time: 5.48 µs"
   ]
  },
  {
   "cell_type": "markdown",
   "metadata": {},
   "source": [
    "Run `test.ipynb` to see if you've successfully added a record to this table."
   ]
  },
  {
   "cell_type": "markdown",
   "metadata": {},
   "source": [
    "## #2: `artists` Table\n",
    "#### Extract Data for Artists Table\n",
    "- Select columns for artist ID, name, location, latitude, and longitude\n",
    "- Use `df.values` to select just the values from the dataframe\n",
    "- Index to select the first (only) record in the dataframe\n",
    "- Convert the array to a list and set it to `artist_data`"
   ]
  },
  {
   "cell_type": "code",
   "execution_count": 15,
   "metadata": {},
   "outputs": [
    {
     "data": {
      "text/plain": [
       "Index(['num_songs', 'artist_id', 'artist_latitude', 'artist_longitude',\n",
       "       'artist_location', 'artist_name', 'song_id', 'title', 'duration',\n",
       "       'year'],\n",
       "      dtype='object')"
      ]
     },
     "execution_count": 15,
     "metadata": {},
     "output_type": "execute_result"
    }
   ],
   "source": [
    "df.columns"
   ]
  },
  {
   "cell_type": "code",
   "execution_count": 16,
   "metadata": {},
   "outputs": [],
   "source": [
    "artist_columns = ['artist_id', 'artist_name', 'artist_location', 'artist_latitude', 'artist_longitude']\n",
    "\n",
    "df_artist_data = df[artist_columns]\n",
    "df_artist = df_artist_data.drop_duplicates(subset='artist_id', keep='last')"
   ]
  },
  {
   "cell_type": "markdown",
   "metadata": {},
   "source": [
    "#### Insert Record into Artist Table\n",
    "Implement the `artist_table_insert` query in `sql_queries.py` and run the cell below to insert a record for this song's artist into the `artists` table. Remember to run `create_tables.py` before running the cell below to ensure you've created/resetted the `artists` table in the sparkify database."
   ]
  },
  {
   "cell_type": "code",
   "execution_count": 17,
   "metadata": {},
   "outputs": [
    {
     "name": "stdout",
     "output_type": "stream",
     "text": [
      "Error while inserting pandas.Dataframe into the table:\n",
      "ON CONFLICT DO UPDATE command cannot affect row a second time\n",
      "HINT:  Ensure that no rows proposed for insertion within the same command have duplicate constrained values.\n",
      "\n"
     ]
    }
   ],
   "source": [
    "insert_df_into_table(cur, artist_table_batch_insert, df_artist_data)\n",
    "conn.commit()"
   ]
  },
  {
   "cell_type": "markdown",
   "metadata": {},
   "source": [
    "Run `test.ipynb` to see if you've successfully added a record to this table."
   ]
  },
  {
   "cell_type": "markdown",
   "metadata": {},
   "source": [
    "# Process `log_data`\n",
    "In this part, you'll perform ETL on the second dataset, `log_data`, to create the `time` and `users` dimensional tables, as well as the `songplays` fact table.\n",
    "\n",
    "Let's perform ETL on a single log file and load a single record into each table.\n",
    "- Use the `get_files` function provided above to get a list of all log JSON files in `data/log_data`\n",
    "- Select the first log file in this list\n",
    "- Read the log file and view the data"
   ]
  },
  {
   "cell_type": "code",
   "execution_count": 19,
   "metadata": {},
   "outputs": [],
   "source": [
    "log_files_path = 'data/log_data'\n",
    "log_files = get_files(log_files_path)"
   ]
  },
  {
   "cell_type": "code",
   "execution_count": 20,
   "metadata": {},
   "outputs": [],
   "source": [
    "df = pd.concat((pd.read_json(file, lines=True) for file in log_files), axis=0)"
   ]
  },
  {
   "cell_type": "markdown",
   "metadata": {},
   "source": [
    "## #3: `time` Table\n",
    "#### Extract Data for Time Table\n",
    "- Filter records by `NextSong` action\n",
    "- Convert the `ts` timestamp column to datetime\n",
    "  - Hint: the current timestamp is in milliseconds\n",
    "- Extract the timestamp, hour, day, week of year, month, year, and weekday from the `ts` column and set `time_data` to a list containing these values in order\n",
    "  - Hint: use pandas' [`dt` attribute](https://pandas.pydata.org/pandas-docs/stable/reference/api/pandas.Series.dt.html) to access easily datetimelike properties.\n",
    "- Specify labels for these columns and set to `column_labels`\n",
    "- Create a dataframe, `time_df,` containing the time data for this file by combining `column_labels` and `time_data` into a dictionary and converting this into a dataframe"
   ]
  },
  {
   "cell_type": "code",
   "execution_count": 21,
   "metadata": {},
   "outputs": [],
   "source": [
    "df = df[df['page'] == 'NextSong']"
   ]
  },
  {
   "cell_type": "code",
   "execution_count": 22,
   "metadata": {},
   "outputs": [],
   "source": [
    "t = pd.to_datetime(df['ts'], unit='ms', origin='unix')\n",
    "# t.head()"
   ]
  },
  {
   "cell_type": "code",
   "execution_count": 23,
   "metadata": {},
   "outputs": [],
   "source": [
    "time_data = list(zip(t, t.dt.hour, t.dt.day, t.dt.isocalendar().week, t.dt.month, t.dt.year, t.dt.weekday))\n",
    "column_labels = ['timestamp', 'hour', 'day', 'week', 'month', 'year', 'weekday']"
   ]
  },
  {
   "cell_type": "code",
   "execution_count": 24,
   "metadata": {},
   "outputs": [
    {
     "data": {
      "text/html": [
       "<div>\n",
       "<style scoped>\n",
       "    .dataframe tbody tr th:only-of-type {\n",
       "        vertical-align: middle;\n",
       "    }\n",
       "\n",
       "    .dataframe tbody tr th {\n",
       "        vertical-align: top;\n",
       "    }\n",
       "\n",
       "    .dataframe thead th {\n",
       "        text-align: right;\n",
       "    }\n",
       "</style>\n",
       "<table border=\"1\" class=\"dataframe\">\n",
       "  <thead>\n",
       "    <tr style=\"text-align: right;\">\n",
       "      <th></th>\n",
       "      <th>timestamp</th>\n",
       "      <th>hour</th>\n",
       "      <th>day</th>\n",
       "      <th>week</th>\n",
       "      <th>month</th>\n",
       "      <th>year</th>\n",
       "      <th>weekday</th>\n",
       "    </tr>\n",
       "  </thead>\n",
       "  <tbody>\n",
       "    <tr>\n",
       "      <th>0</th>\n",
       "      <td>2018-11-21 00:57:58.796</td>\n",
       "      <td>0</td>\n",
       "      <td>21</td>\n",
       "      <td>47</td>\n",
       "      <td>11</td>\n",
       "      <td>2018</td>\n",
       "      <td>2</td>\n",
       "    </tr>\n",
       "    <tr>\n",
       "      <th>1</th>\n",
       "      <td>2018-11-21 00:58:41.796</td>\n",
       "      <td>0</td>\n",
       "      <td>21</td>\n",
       "      <td>47</td>\n",
       "      <td>11</td>\n",
       "      <td>2018</td>\n",
       "      <td>2</td>\n",
       "    </tr>\n",
       "    <tr>\n",
       "      <th>2</th>\n",
       "      <td>2018-11-21 01:02:05.796</td>\n",
       "      <td>1</td>\n",
       "      <td>21</td>\n",
       "      <td>47</td>\n",
       "      <td>11</td>\n",
       "      <td>2018</td>\n",
       "      <td>2</td>\n",
       "    </tr>\n",
       "    <tr>\n",
       "      <th>3</th>\n",
       "      <td>2018-11-21 01:03:13.796</td>\n",
       "      <td>1</td>\n",
       "      <td>21</td>\n",
       "      <td>47</td>\n",
       "      <td>11</td>\n",
       "      <td>2018</td>\n",
       "      <td>2</td>\n",
       "    </tr>\n",
       "    <tr>\n",
       "      <th>4</th>\n",
       "      <td>2018-11-21 01:05:29.796</td>\n",
       "      <td>1</td>\n",
       "      <td>21</td>\n",
       "      <td>47</td>\n",
       "      <td>11</td>\n",
       "      <td>2018</td>\n",
       "      <td>2</td>\n",
       "    </tr>\n",
       "  </tbody>\n",
       "</table>\n",
       "</div>"
      ],
      "text/plain": [
       "                timestamp  hour  day  week  month  year  weekday\n",
       "0 2018-11-21 00:57:58.796     0   21    47     11  2018        2\n",
       "1 2018-11-21 00:58:41.796     0   21    47     11  2018        2\n",
       "2 2018-11-21 01:02:05.796     1   21    47     11  2018        2\n",
       "3 2018-11-21 01:03:13.796     1   21    47     11  2018        2\n",
       "4 2018-11-21 01:05:29.796     1   21    47     11  2018        2"
      ]
     },
     "execution_count": 24,
     "metadata": {},
     "output_type": "execute_result"
    }
   ],
   "source": [
    "df_time = pd.DataFrame(time_data, columns=column_labels)\n",
    "df_time = df_time.drop_duplicates()\n",
    "df_time.head()"
   ]
  },
  {
   "cell_type": "markdown",
   "metadata": {},
   "source": [
    "#### Insert Records into Time Table\n",
    "Implement the `time_table_insert` query in `sql_queries.py` and run the cell below to insert records for the timestamps in this log file into the `time` table. Remember to run `create_tables.py` before running the cell below to ensure you've created/resetted the `time` table in the sparkify database."
   ]
  },
  {
   "cell_type": "code",
   "execution_count": 25,
   "metadata": {},
   "outputs": [],
   "source": [
    "insert_df_into_table(cur, time_table_batch_insert, df_time)\n",
    "conn.commit()"
   ]
  },
  {
   "cell_type": "markdown",
   "metadata": {},
   "source": [
    "Run `test.ipynb` to see if you've successfully added records to this table."
   ]
  },
  {
   "cell_type": "markdown",
   "metadata": {},
   "source": [
    "## #4: `users` Table\n",
    "#### Extract Data for Users Table\n",
    "- Select columns for user ID, first name, last name, gender and level and set to `user_df`"
   ]
  },
  {
   "cell_type": "code",
   "execution_count": 26,
   "metadata": {},
   "outputs": [],
   "source": [
    "user_columns = ['userId', 'firstName', 'lastName', 'gender', 'level']\n",
    "df_user = df[user_columns]"
   ]
  },
  {
   "cell_type": "code",
   "execution_count": 27,
   "metadata": {},
   "outputs": [],
   "source": [
    "# check data quality\n",
    "\n",
    "df = df.dropna(axis=0)\n",
    "\n",
    "df = df[df['userId'] != '']\n",
    "\n",
    "df_user['userId'] = df_user['userId'].astype(int)\n",
    "df_user = df_user.drop_duplicates(subset='userId', keep='last')\n"
   ]
  },
  {
   "cell_type": "markdown",
   "metadata": {},
   "source": [
    "#### Insert Records into Users Table\n",
    "Implement the `user_table_insert` query in `sql_queries.py` and run the cell below to insert records for the users in this log file into the `users` table. Remember to run `create_tables.py` before running the cell below to ensure you've created/resetted the `users` table in the sparkify database."
   ]
  },
  {
   "cell_type": "code",
   "execution_count": 28,
   "metadata": {},
   "outputs": [],
   "source": [
    "insert_df_into_table(cur, user_table_batch_insert, df_user)\n",
    "conn.commit()"
   ]
  },
  {
   "cell_type": "markdown",
   "metadata": {},
   "source": [
    "Run `test.ipynb` to see if you've successfully added records to this table."
   ]
  },
  {
   "cell_type": "markdown",
   "metadata": {},
   "source": [
    "## #5: `songplays` Table\n",
    "#### Extract Data and Songplays Table\n",
    "This one is a little more complicated since information from the songs table, artists table, and original log file are all needed for the `songplays` table. Since the log file does not specify an ID for either the song or the artist, you'll need to get the song ID and artist ID by querying the songs and artists tables to find matches based on song title, artist name, and song duration time.\n",
    "- Implement the `song_select` query in `sql_queries.py` to find the song ID and artist ID based on the title, artist name, and duration of a song.\n",
    "- Select the timestamp, user ID, level, song ID, artist ID, session ID, location, and user agent and set to `songplay_data`\n",
    "\n",
    "#### Insert Records into Songplays Table\n",
    "- Implement the `songplay_table_insert` query and run the cell below to insert records for the songplay actions in this log file into the `songplays` table. Remember to run `create_tables.py` before running the cell below to ensure you've created/resetted the `songplays` table in the sparkify database."
   ]
  },
  {
   "cell_type": "code",
   "execution_count": 29,
   "metadata": {},
   "outputs": [
    {
     "data": {
      "text/plain": [
       "Index(['artist', 'auth', 'firstName', 'gender', 'itemInSession', 'lastName',\n",
       "       'length', 'level', 'location', 'method', 'page', 'registration',\n",
       "       'sessionId', 'song', 'status', 'ts', 'userAgent', 'userId'],\n",
       "      dtype='object')"
      ]
     },
     "execution_count": 29,
     "metadata": {},
     "output_type": "execute_result"
    }
   ],
   "source": [
    "df.columns"
   ]
  },
  {
   "cell_type": "code",
   "execution_count": 34,
   "metadata": {},
   "outputs": [],
   "source": [
    "df['songplay_id'] = df['sessionId'].astype(str) + '-' + df['ts'].astype(str)\n",
    "df['start_time'] = pd.to_datetime(df.ts, unit='ms', origin='unix')\n",
    "songplay_columns = ['songplay_id', 'start_time', 'userId', 'level', 'song', \n",
    "                    'artist', 'sessionId', 'location', 'userAgent', 'length']\n",
    "df_songplay = df[songplay_columns].reset_index(drop=True)\n",
    "df_songplay\n",
    "# insert into temporary table\n",
    "cur.execute(temp_log_data_create)\n",
    "conn.commit()\n",
    "insert_df_into_table(cur, sql_insert_temp_table, df_songplay)\n",
    "cur.execute(join_log_data_songs_artists)\n",
    "conn.commit()"
   ]
  },
  {
   "cell_type": "code",
   "execution_count": 35,
   "metadata": {},
   "outputs": [],
   "source": [
    "# %time\n",
    "# insert_df_into_table(cur, sql_insert_temp_table, df_in)\n",
    "# conn.commit()"
   ]
  },
  {
   "cell_type": "code",
   "execution_count": 36,
   "metadata": {},
   "outputs": [
    {
     "name": "stdout",
     "output_type": "stream",
     "text": [
      "('774-1542761878796', datetime.datetime(2018, 11, 21, 0, 57, 58, 796000), 80, 'paid', None, None, '774', 'Portland-South Portland, ME', '\"Mozilla/5.0 (Macintosh; Intel Mac OS X 10_9_4) AppleWebKit/537.36 (KHTML, like Gecko) Chrome/36.0.1985.143 Safari/537.36\"')\n",
      "('671-1542761921796', datetime.datetime(2018, 11, 21, 0, 58, 41, 796000), 97, 'paid', None, None, '671', 'Lansing-East Lansing, MI', '\"Mozilla/5.0 (X11; Linux x86_64) AppleWebKit/537.36 (KHTML, like Gecko) Chrome/37.0.2062.94 Safari/537.36\"')\n",
      "('671-1542762125796', datetime.datetime(2018, 11, 21, 1, 2, 5, 796000), 97, 'paid', None, None, '671', 'Lansing-East Lansing, MI', '\"Mozilla/5.0 (X11; Linux x86_64) AppleWebKit/537.36 (KHTML, like Gecko) Chrome/37.0.2062.94 Safari/537.36\"')\n",
      "('774-1542762193796', datetime.datetime(2018, 11, 21, 1, 3, 13, 796000), 80, 'paid', None, None, '774', 'Portland-South Portland, ME', '\"Mozilla/5.0 (Macintosh; Intel Mac OS X 10_9_4) AppleWebKit/537.36 (KHTML, like Gecko) Chrome/36.0.1985.143 Safari/537.36\"')\n",
      "('671-1542762329796', datetime.datetime(2018, 11, 21, 1, 5, 29, 796000), 97, 'paid', None, None, '671', 'Lansing-East Lansing, MI', '\"Mozilla/5.0 (X11; Linux x86_64) AppleWebKit/537.36 (KHTML, like Gecko) Chrome/37.0.2062.94 Safari/537.36\"')\n"
     ]
    }
   ],
   "source": [
    "cur.execute(\"\"\"\n",
    "select \n",
    "    tld.songplay_id, \n",
    "    tld.start_time, \n",
    "    tld.user_id, \n",
    "    tld.level, \n",
    "    s.song_id, \n",
    "    a.artist_id, \n",
    "    tld.session_id, \n",
    "    tld.location, \n",
    "    tld.user_agent\n",
    "from temp_log_data tld\n",
    "left join songs s on\n",
    "    tld.song = s.title\n",
    "left join artists a on\n",
    "    tld.artist = a.name\n",
    " \"\"\")\n",
    "conn.commit()\n",
    "for ii in range(0,5):\n",
    "    row = cur.fetchone()\n",
    "    if row == None:\n",
    "        break\n",
    "    print(row)\n",
    "conn.commit()"
   ]
  },
  {
   "cell_type": "markdown",
   "metadata": {},
   "source": [
    "Run `test.ipynb` to see if you've successfully added records to this table."
   ]
  },
  {
   "cell_type": "markdown",
   "metadata": {},
   "source": [
    "# Close Connection to Sparkify Database"
   ]
  },
  {
   "cell_type": "code",
   "execution_count": 37,
   "metadata": {},
   "outputs": [],
   "source": [
    "conn.close()"
   ]
  },
  {
   "cell_type": "markdown",
   "metadata": {},
   "source": [
    "# Implement `etl.py`\n",
    "Use what you've completed in this notebook to implement `etl.py`."
   ]
  },
  {
   "cell_type": "code",
   "execution_count": 38,
   "metadata": {},
   "outputs": [
    {
     "name": "stdout",
     "output_type": "stream",
     "text": [
      "finished\n"
     ]
    }
   ],
   "source": [
    "print(\"finished\")"
   ]
  },
  {
   "cell_type": "code",
   "execution_count": null,
   "metadata": {},
   "outputs": [],
   "source": []
  }
 ],
 "metadata": {
  "kernelspec": {
   "display_name": "Python 3.9.7 ('.venv': venv)",
   "language": "python",
   "name": "python3"
  },
  "language_info": {
   "codemirror_mode": {
    "name": "ipython",
    "version": 3
   },
   "file_extension": ".py",
   "mimetype": "text/x-python",
   "name": "python",
   "nbconvert_exporter": "python",
   "pygments_lexer": "ipython3",
   "version": "3.9.7"
  },
  "vscode": {
   "interpreter": {
    "hash": "c8471d211cdb0404f44a6e01916bd5b67b5aec37fe8cb020397b448b1293851c"
   }
  }
 },
 "nbformat": 4,
 "nbformat_minor": 2
}
