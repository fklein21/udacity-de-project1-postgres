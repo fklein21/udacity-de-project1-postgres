{
 "cells": [
  {
   "cell_type": "markdown",
   "metadata": {},
   "source": [
    "# ETL Processes\n",
    "Use this notebook to develop the ETL process for each of your tables before completing the `etl.py` file to load the whole datasets."
   ]
  },
  {
   "cell_type": "code",
   "execution_count": 1,
   "metadata": {},
   "outputs": [],
   "source": [
    "import os\n",
    "import glob\n",
    "import psycopg2\n",
    "import psycopg2.extras\n",
    "import pandas as pd\n",
    "from sql_queries import *\n",
    "import  create_tables"
   ]
  },
  {
   "cell_type": "code",
   "execution_count": 2,
   "metadata": {},
   "outputs": [],
   "source": [
    "create_tables.main()"
   ]
  },
  {
   "cell_type": "code",
   "execution_count": 3,
   "metadata": {},
   "outputs": [],
   "source": [
    "conn = psycopg2.connect(\"host=127.0.0.1 dbname=sparkifydb user=student password=student\")\n",
    "cur = conn.cursor()\n",
    "# conn.set_session(autocommit=True)"
   ]
  },
  {
   "cell_type": "code",
   "execution_count": 4,
   "metadata": {},
   "outputs": [],
   "source": [
    "def get_files(filepath):\n",
    "    all_files = []\n",
    "    for root, dirs, files in os.walk(filepath):\n",
    "        files = glob.glob(os.path.join(root,'*.json'))\n",
    "        for f in files :\n",
    "            all_files.append(os.path.abspath(f))\n",
    "    \n",
    "    return all_files"
   ]
  },
  {
   "cell_type": "markdown",
   "metadata": {},
   "source": [
    "# Process `song_data`\n",
    "In this first part, you'll perform ETL on the first dataset, `song_data`, to create the `songs` and `artists` dimensional tables.\n",
    "\n",
    "Let's perform ETL on a single song file and load a single record into each table to start.\n",
    "- Use the `get_files` function provided above to get a list of all song JSON files in `data/song_data`\n",
    "- Select the first song in this list\n",
    "- Read the song file and view the data"
   ]
  },
  {
   "cell_type": "code",
   "execution_count": 5,
   "metadata": {},
   "outputs": [],
   "source": [
    "song_data_path = './data/song_data'\n",
    "song_files = get_files(song_data_path)"
   ]
  },
  {
   "cell_type": "code",
   "execution_count": 6,
   "metadata": {},
   "outputs": [
    {
     "data": {
      "text/html": [
       "<div>\n",
       "<style scoped>\n",
       "    .dataframe tbody tr th:only-of-type {\n",
       "        vertical-align: middle;\n",
       "    }\n",
       "\n",
       "    .dataframe tbody tr th {\n",
       "        vertical-align: top;\n",
       "    }\n",
       "\n",
       "    .dataframe thead th {\n",
       "        text-align: right;\n",
       "    }\n",
       "</style>\n",
       "<table border=\"1\" class=\"dataframe\">\n",
       "  <thead>\n",
       "    <tr style=\"text-align: right;\">\n",
       "      <th></th>\n",
       "      <th>num_songs</th>\n",
       "      <th>artist_id</th>\n",
       "      <th>artist_latitude</th>\n",
       "      <th>artist_longitude</th>\n",
       "      <th>artist_location</th>\n",
       "      <th>artist_name</th>\n",
       "      <th>song_id</th>\n",
       "      <th>title</th>\n",
       "      <th>duration</th>\n",
       "      <th>year</th>\n",
       "    </tr>\n",
       "  </thead>\n",
       "  <tbody>\n",
       "    <tr>\n",
       "      <th>0</th>\n",
       "      <td>1</td>\n",
       "      <td>AR7SMBG1187B9B9066</td>\n",
       "      <td>NaN</td>\n",
       "      <td>NaN</td>\n",
       "      <td></td>\n",
       "      <td>Los Manolos</td>\n",
       "      <td>SOBCOSW12A8C13D398</td>\n",
       "      <td>Rumba De Barcelona</td>\n",
       "      <td>218.38322</td>\n",
       "      <td>0</td>\n",
       "    </tr>\n",
       "    <tr>\n",
       "      <th>0</th>\n",
       "      <td>1</td>\n",
       "      <td>ARBGXIG122988F409D</td>\n",
       "      <td>37.77916</td>\n",
       "      <td>-122.42005</td>\n",
       "      <td>California - SF</td>\n",
       "      <td>Steel Rain</td>\n",
       "      <td>SOOJPRH12A8C141995</td>\n",
       "      <td>Loaded Like A Gun</td>\n",
       "      <td>173.19138</td>\n",
       "      <td>0</td>\n",
       "    </tr>\n",
       "    <tr>\n",
       "      <th>0</th>\n",
       "      <td>1</td>\n",
       "      <td>ARNNKDK1187B98BBD5</td>\n",
       "      <td>45.80726</td>\n",
       "      <td>15.96760</td>\n",
       "      <td>Zagreb Croatia</td>\n",
       "      <td>Jinx</td>\n",
       "      <td>SOFNOQK12AB01840FC</td>\n",
       "      <td>Kutt Free (DJ Volume Remix)</td>\n",
       "      <td>407.37914</td>\n",
       "      <td>0</td>\n",
       "    </tr>\n",
       "    <tr>\n",
       "      <th>0</th>\n",
       "      <td>1</td>\n",
       "      <td>ARP6N5A1187B99D1A3</td>\n",
       "      <td>NaN</td>\n",
       "      <td>NaN</td>\n",
       "      <td>Hamtramck, MI</td>\n",
       "      <td>Mitch Ryder</td>\n",
       "      <td>SOXILUQ12A58A7C72A</td>\n",
       "      <td>Jenny Take a Ride</td>\n",
       "      <td>207.43791</td>\n",
       "      <td>2004</td>\n",
       "    </tr>\n",
       "    <tr>\n",
       "      <th>0</th>\n",
       "      <td>1</td>\n",
       "      <td>AR36F9J1187FB406F1</td>\n",
       "      <td>56.27609</td>\n",
       "      <td>9.51695</td>\n",
       "      <td>Denmark</td>\n",
       "      <td>Bombay Rockers</td>\n",
       "      <td>SOBKWDJ12A8C13B2F3</td>\n",
       "      <td>Wild Rose (Back 2 Basics Mix)</td>\n",
       "      <td>230.71302</td>\n",
       "      <td>0</td>\n",
       "    </tr>\n",
       "  </tbody>\n",
       "</table>\n",
       "</div>"
      ],
      "text/plain": [
       "   num_songs           artist_id  artist_latitude  artist_longitude  \\\n",
       "0          1  AR7SMBG1187B9B9066              NaN               NaN   \n",
       "0          1  ARBGXIG122988F409D         37.77916        -122.42005   \n",
       "0          1  ARNNKDK1187B98BBD5         45.80726          15.96760   \n",
       "0          1  ARP6N5A1187B99D1A3              NaN               NaN   \n",
       "0          1  AR36F9J1187FB406F1         56.27609           9.51695   \n",
       "\n",
       "   artist_location     artist_name             song_id  \\\n",
       "0                      Los Manolos  SOBCOSW12A8C13D398   \n",
       "0  California - SF      Steel Rain  SOOJPRH12A8C141995   \n",
       "0   Zagreb Croatia            Jinx  SOFNOQK12AB01840FC   \n",
       "0    Hamtramck, MI     Mitch Ryder  SOXILUQ12A58A7C72A   \n",
       "0          Denmark  Bombay Rockers  SOBKWDJ12A8C13B2F3   \n",
       "\n",
       "                           title   duration  year  \n",
       "0             Rumba De Barcelona  218.38322     0  \n",
       "0              Loaded Like A Gun  173.19138     0  \n",
       "0    Kutt Free (DJ Volume Remix)  407.37914     0  \n",
       "0              Jenny Take a Ride  207.43791  2004  \n",
       "0  Wild Rose (Back 2 Basics Mix)  230.71302     0  "
      ]
     },
     "execution_count": 6,
     "metadata": {},
     "output_type": "execute_result"
    }
   ],
   "source": [
    "# Read all song files into one dataframe\n",
    "df = pd.concat((pd.read_json(file, lines=True) for file in song_files))\n",
    "df.head()"
   ]
  },
  {
   "cell_type": "code",
   "execution_count": 7,
   "metadata": {},
   "outputs": [],
   "source": [
    "# Drop rows where the song_id is identical - Not really necessary\n",
    "df = df.drop_duplicates(subset='song_id', keep='last')"
   ]
  },
  {
   "cell_type": "markdown",
   "metadata": {},
   "source": [
    "## #1: `songs` Table\n",
    "#### Extract Data for Songs Table\n",
    "- Select columns for song ID, title, artist ID, year, and duration\n",
    "- Use `df.values` to select just the values from the dataframe\n",
    "- Index to select the first (only) record in the dataframe\n",
    "- Convert the array to a list and set it to `song_data`"
   ]
  },
  {
   "cell_type": "code",
   "execution_count": 8,
   "metadata": {},
   "outputs": [
    {
     "data": {
      "text/plain": [
       "['SOBCOSW12A8C13D398',\n",
       " 'Rumba De Barcelona',\n",
       " 'AR7SMBG1187B9B9066',\n",
       " 0,\n",
       " 218.38322]"
      ]
     },
     "execution_count": 8,
     "metadata": {},
     "output_type": "execute_result"
    }
   ],
   "source": [
    "columns = ['song_id', 'title', 'artist_id', 'year', 'duration']\n",
    "song_data = list(df[columns].values[0])\n",
    "song_data"
   ]
  },
  {
   "cell_type": "code",
   "execution_count": 9,
   "metadata": {},
   "outputs": [],
   "source": [
    "title_list = list(df['title'])"
   ]
  },
  {
   "cell_type": "markdown",
   "metadata": {},
   "source": [
    "#### Insert Record into Song Table\n",
    "Implement the `song_table_insert` query in `sql_queries.py` and run the cell below to insert a record for this song into the `songs` table. Remember to run `create_tables.py` before running the cell below to ensure you've created/resetted the `songs` table in the sparkify database."
   ]
  },
  {
   "cell_type": "code",
   "execution_count": 10,
   "metadata": {},
   "outputs": [],
   "source": [
    "df_songs_data = df[columns]"
   ]
  },
  {
   "cell_type": "code",
   "execution_count": 11,
   "metadata": {},
   "outputs": [
    {
     "data": {
      "text/html": [
       "<div>\n",
       "<style scoped>\n",
       "    .dataframe tbody tr th:only-of-type {\n",
       "        vertical-align: middle;\n",
       "    }\n",
       "\n",
       "    .dataframe tbody tr th {\n",
       "        vertical-align: top;\n",
       "    }\n",
       "\n",
       "    .dataframe thead th {\n",
       "        text-align: right;\n",
       "    }\n",
       "</style>\n",
       "<table border=\"1\" class=\"dataframe\">\n",
       "  <thead>\n",
       "    <tr style=\"text-align: right;\">\n",
       "      <th></th>\n",
       "      <th>song_id</th>\n",
       "      <th>title</th>\n",
       "      <th>artist_id</th>\n",
       "      <th>year</th>\n",
       "      <th>duration</th>\n",
       "    </tr>\n",
       "  </thead>\n",
       "  <tbody>\n",
       "    <tr>\n",
       "      <th>0</th>\n",
       "      <td>SOBCOSW12A8C13D398</td>\n",
       "      <td>Rumba De Barcelona</td>\n",
       "      <td>AR7SMBG1187B9B9066</td>\n",
       "      <td>0</td>\n",
       "      <td>218.38322</td>\n",
       "    </tr>\n",
       "    <tr>\n",
       "      <th>0</th>\n",
       "      <td>SOOJPRH12A8C141995</td>\n",
       "      <td>Loaded Like A Gun</td>\n",
       "      <td>ARBGXIG122988F409D</td>\n",
       "      <td>0</td>\n",
       "      <td>173.19138</td>\n",
       "    </tr>\n",
       "    <tr>\n",
       "      <th>0</th>\n",
       "      <td>SOFNOQK12AB01840FC</td>\n",
       "      <td>Kutt Free (DJ Volume Remix)</td>\n",
       "      <td>ARNNKDK1187B98BBD5</td>\n",
       "      <td>0</td>\n",
       "      <td>407.37914</td>\n",
       "    </tr>\n",
       "    <tr>\n",
       "      <th>0</th>\n",
       "      <td>SOXILUQ12A58A7C72A</td>\n",
       "      <td>Jenny Take a Ride</td>\n",
       "      <td>ARP6N5A1187B99D1A3</td>\n",
       "      <td>2004</td>\n",
       "      <td>207.43791</td>\n",
       "    </tr>\n",
       "    <tr>\n",
       "      <th>0</th>\n",
       "      <td>SOBKWDJ12A8C13B2F3</td>\n",
       "      <td>Wild Rose (Back 2 Basics Mix)</td>\n",
       "      <td>AR36F9J1187FB406F1</td>\n",
       "      <td>0</td>\n",
       "      <td>230.71302</td>\n",
       "    </tr>\n",
       "  </tbody>\n",
       "</table>\n",
       "</div>"
      ],
      "text/plain": [
       "              song_id                          title           artist_id  \\\n",
       "0  SOBCOSW12A8C13D398             Rumba De Barcelona  AR7SMBG1187B9B9066   \n",
       "0  SOOJPRH12A8C141995              Loaded Like A Gun  ARBGXIG122988F409D   \n",
       "0  SOFNOQK12AB01840FC    Kutt Free (DJ Volume Remix)  ARNNKDK1187B98BBD5   \n",
       "0  SOXILUQ12A58A7C72A              Jenny Take a Ride  ARP6N5A1187B99D1A3   \n",
       "0  SOBKWDJ12A8C13B2F3  Wild Rose (Back 2 Basics Mix)  AR36F9J1187FB406F1   \n",
       "\n",
       "   year   duration  \n",
       "0     0  218.38322  \n",
       "0     0  173.19138  \n",
       "0     0  407.37914  \n",
       "0  2004  207.43791  \n",
       "0     0  230.71302  "
      ]
     },
     "execution_count": 11,
     "metadata": {},
     "output_type": "execute_result"
    }
   ],
   "source": [
    "df_songs_data.head()"
   ]
  },
  {
   "cell_type": "code",
   "execution_count": 12,
   "metadata": {},
   "outputs": [],
   "source": [
    "# temp_dir = './temp_copy_to_sql/'\n",
    "# os.makedirs(temp_dir, exist_ok=True)\n",
    "# temp_file = temp_dir+'temp_copy_to_sql.csv'\n",
    "# df_songs_data.to_csv(temp_file, header=False, index=False, sep='|', quotechar=\"'\")\n",
    "# with open(temp_file, 'r') as f_in:\n",
    "#     cur.copy_from(f_in, 'songs', sep='|')\n",
    "#     conn.commit()"
   ]
  },
  {
   "cell_type": "code",
   "execution_count": 13,
   "metadata": {},
   "outputs": [],
   "source": [
    "def insert_df_into_table(cur, table, df):\n",
    "    \"\"\"Inserting values in a dataframe into the database.\n",
    "\n",
    "    Inserts values from a dataframe into a table. \n",
    "    The dataframe can only contain the columns to be inserted.\n",
    "\n",
    "    Args:\n",
    "        cur (psycopg2.extensions.cursor): Cursor to the postgres database.\n",
    "        table (str): The name of the table to insert the data into.\n",
    "        df (pandas.Dataframe): Dataframe with the data to insert into the table.\n",
    "    \"\"\"\n",
    "\n",
    "    temp_dir = './temp_copy_to_sql/'\n",
    "    os.makedirs(temp_dir, exist_ok=True)\n",
    "    temp_file = temp_dir+'temp_copy_to_sql.csv'\n",
    "    df.to_csv(temp_file, header=False, index=False, sep='|', quotechar=\"'\", na_rep='NaN')\n",
    "    with open(temp_file, 'r') as f_in:\n",
    "        cur.copy_from(f_in, table, sep='|')\n",
    "        conn.commit()\n",
    "\n",
    "    os.remove(temp_file)\n",
    "    if not os.listdir(temp_dir):\n",
    "        os.rmdir(temp_dir)"
   ]
  },
  {
   "cell_type": "code",
   "execution_count": 14,
   "metadata": {},
   "outputs": [],
   "source": [
    "try:\n",
    "    insert_df_into_table(cur, 'songs', df[columns])\n",
    "    conn.commit()\n",
    "except psycopg2.Error as e:\n",
    "    print('Inserting data did not complete without errors.')\n",
    "    print(e)\n",
    "    print('Connection rollback.')\n",
    "    conn.rollback()"
   ]
  },
  {
   "cell_type": "markdown",
   "metadata": {},
   "source": [
    "Run `test.ipynb` to see if you've successfully added a record to this table."
   ]
  },
  {
   "cell_type": "markdown",
   "metadata": {},
   "source": [
    "## #2: `artists` Table\n",
    "#### Extract Data for Artists Table\n",
    "- Select columns for artist ID, name, location, latitude, and longitude\n",
    "- Use `df.values` to select just the values from the dataframe\n",
    "- Index to select the first (only) record in the dataframe\n",
    "- Convert the array to a list and set it to `artist_data`"
   ]
  },
  {
   "cell_type": "code",
   "execution_count": 15,
   "metadata": {},
   "outputs": [
    {
     "data": {
      "text/plain": [
       "Index(['num_songs', 'artist_id', 'artist_latitude', 'artist_longitude',\n",
       "       'artist_location', 'artist_name', 'song_id', 'title', 'duration',\n",
       "       'year'],\n",
       "      dtype='object')"
      ]
     },
     "execution_count": 15,
     "metadata": {},
     "output_type": "execute_result"
    }
   ],
   "source": [
    "df.columns"
   ]
  },
  {
   "cell_type": "code",
   "execution_count": 16,
   "metadata": {},
   "outputs": [],
   "source": [
    "artist_columns = ['artist_id', 'artist_name', 'artist_location', 'artist_latitude', 'artist_longitude']\n",
    "\n",
    "df_artist = df[artist_columns]\n",
    "df_artist = df_artist.drop_duplicates(subset='artist_id', keep='last')"
   ]
  },
  {
   "cell_type": "markdown",
   "metadata": {},
   "source": [
    "#### Insert Record into Artist Table\n",
    "Implement the `artist_table_insert` query in `sql_queries.py` and run the cell below to insert a record for this song's artist into the `artists` table. Remember to run `create_tables.py` before running the cell below to ensure you've created/resetted the `artists` table in the sparkify database."
   ]
  },
  {
   "cell_type": "code",
   "execution_count": 17,
   "metadata": {},
   "outputs": [
    {
     "data": {
      "text/plain": [
       "69"
      ]
     },
     "execution_count": 17,
     "metadata": {},
     "output_type": "execute_result"
    }
   ],
   "source": [
    "df_artist['artist_id'].nunique()"
   ]
  },
  {
   "cell_type": "code",
   "execution_count": 19,
   "metadata": {},
   "outputs": [
    {
     "name": "stdout",
     "output_type": "stream",
     "text": [
      "Inserting data did not complete without errors.\n",
      "duplicate key value violates unique constraint \"artists_pkey\"\n",
      "DETAIL:  Key (artist_id)=(AR7SMBG1187B9B9066) already exists.\n",
      "CONTEXT:  COPY artists, line 1\n",
      "\n",
      "Connection rollback.\n"
     ]
    }
   ],
   "source": [
    "try:\n",
    "    insert_df_into_table(cur, 'artists', df_artist)\n",
    "    conn.commit()\n",
    "except psycopg2.Error as e:\n",
    "    print('Inserting data did not complete without errors.')\n",
    "    print(e)\n",
    "    print('Connection rollback.')\n",
    "    conn.rollback()"
   ]
  },
  {
   "cell_type": "markdown",
   "metadata": {},
   "source": [
    "Run `test.ipynb` to see if you've successfully added a record to this table."
   ]
  },
  {
   "cell_type": "markdown",
   "metadata": {},
   "source": [
    "# Process `log_data`\n",
    "In this part, you'll perform ETL on the second dataset, `log_data`, to create the `time` and `users` dimensional tables, as well as the `songplays` fact table.\n",
    "\n",
    "Let's perform ETL on a single log file and load a single record into each table.\n",
    "- Use the `get_files` function provided above to get a list of all log JSON files in `data/log_data`\n",
    "- Select the first log file in this list\n",
    "- Read the log file and view the data"
   ]
  },
  {
   "cell_type": "code",
   "execution_count": 20,
   "metadata": {},
   "outputs": [],
   "source": [
    "log_files_path = 'data/log_data'\n",
    "log_files = get_files(log_files_path)"
   ]
  },
  {
   "cell_type": "code",
   "execution_count": 21,
   "metadata": {},
   "outputs": [],
   "source": [
    "df = pd.concat((pd.read_json(file, lines=True) for file in log_files), axis=0)"
   ]
  },
  {
   "cell_type": "markdown",
   "metadata": {},
   "source": [
    "## #3: `time` Table\n",
    "#### Extract Data for Time Table\n",
    "- Filter records by `NextSong` action\n",
    "- Convert the `ts` timestamp column to datetime\n",
    "  - Hint: the current timestamp is in milliseconds\n",
    "- Extract the timestamp, hour, day, week of year, month, year, and weekday from the `ts` column and set `time_data` to a list containing these values in order\n",
    "  - Hint: use pandas' [`dt` attribute](https://pandas.pydata.org/pandas-docs/stable/reference/api/pandas.Series.dt.html) to access easily datetimelike properties.\n",
    "- Specify labels for these columns and set to `column_labels`\n",
    "- Create a dataframe, `time_df,` containing the time data for this file by combining `column_labels` and `time_data` into a dictionary and converting this into a dataframe"
   ]
  },
  {
   "cell_type": "code",
   "execution_count": 22,
   "metadata": {},
   "outputs": [],
   "source": [
    "df = df[df['page'] == 'NextSong']"
   ]
  },
  {
   "cell_type": "code",
   "execution_count": 23,
   "metadata": {},
   "outputs": [
    {
     "data": {
      "text/plain": [
       "6    2018-11-21 00:57:58.796\n",
       "7    2018-11-21 00:58:41.796\n",
       "8    2018-11-21 01:02:05.796\n",
       "9    2018-11-21 01:03:13.796\n",
       "11   2018-11-21 01:05:29.796\n",
       "Name: ts, dtype: datetime64[ns]"
      ]
     },
     "execution_count": 23,
     "metadata": {},
     "output_type": "execute_result"
    }
   ],
   "source": [
    "t = pd.to_datetime(df['ts'], unit='ms', origin='unix')\n",
    "t.head()"
   ]
  },
  {
   "cell_type": "code",
   "execution_count": 24,
   "metadata": {},
   "outputs": [],
   "source": [
    "time_data = list(zip(t, t.dt.hour, t.dt.day, t.dt.week, t.dt.month, t.dt.year, t.dt.weekday))\n",
    "column_labels = ['timestamp', 'hour', 'day', 'week', 'month', 'year', 'weekday']"
   ]
  },
  {
   "cell_type": "code",
   "execution_count": 25,
   "metadata": {},
   "outputs": [
    {
     "data": {
      "text/html": [
       "<div>\n",
       "<style scoped>\n",
       "    .dataframe tbody tr th:only-of-type {\n",
       "        vertical-align: middle;\n",
       "    }\n",
       "\n",
       "    .dataframe tbody tr th {\n",
       "        vertical-align: top;\n",
       "    }\n",
       "\n",
       "    .dataframe thead th {\n",
       "        text-align: right;\n",
       "    }\n",
       "</style>\n",
       "<table border=\"1\" class=\"dataframe\">\n",
       "  <thead>\n",
       "    <tr style=\"text-align: right;\">\n",
       "      <th></th>\n",
       "      <th>timestamp</th>\n",
       "      <th>hour</th>\n",
       "      <th>day</th>\n",
       "      <th>week</th>\n",
       "      <th>month</th>\n",
       "      <th>year</th>\n",
       "      <th>weekday</th>\n",
       "    </tr>\n",
       "  </thead>\n",
       "  <tbody>\n",
       "    <tr>\n",
       "      <th>0</th>\n",
       "      <td>2018-11-21 00:57:58.796</td>\n",
       "      <td>0</td>\n",
       "      <td>21</td>\n",
       "      <td>47</td>\n",
       "      <td>11</td>\n",
       "      <td>2018</td>\n",
       "      <td>2</td>\n",
       "    </tr>\n",
       "    <tr>\n",
       "      <th>1</th>\n",
       "      <td>2018-11-21 00:58:41.796</td>\n",
       "      <td>0</td>\n",
       "      <td>21</td>\n",
       "      <td>47</td>\n",
       "      <td>11</td>\n",
       "      <td>2018</td>\n",
       "      <td>2</td>\n",
       "    </tr>\n",
       "    <tr>\n",
       "      <th>2</th>\n",
       "      <td>2018-11-21 01:02:05.796</td>\n",
       "      <td>1</td>\n",
       "      <td>21</td>\n",
       "      <td>47</td>\n",
       "      <td>11</td>\n",
       "      <td>2018</td>\n",
       "      <td>2</td>\n",
       "    </tr>\n",
       "    <tr>\n",
       "      <th>3</th>\n",
       "      <td>2018-11-21 01:03:13.796</td>\n",
       "      <td>1</td>\n",
       "      <td>21</td>\n",
       "      <td>47</td>\n",
       "      <td>11</td>\n",
       "      <td>2018</td>\n",
       "      <td>2</td>\n",
       "    </tr>\n",
       "    <tr>\n",
       "      <th>4</th>\n",
       "      <td>2018-11-21 01:05:29.796</td>\n",
       "      <td>1</td>\n",
       "      <td>21</td>\n",
       "      <td>47</td>\n",
       "      <td>11</td>\n",
       "      <td>2018</td>\n",
       "      <td>2</td>\n",
       "    </tr>\n",
       "  </tbody>\n",
       "</table>\n",
       "</div>"
      ],
      "text/plain": [
       "                timestamp  hour  day  week  month  year  weekday\n",
       "0 2018-11-21 00:57:58.796     0   21    47     11  2018        2\n",
       "1 2018-11-21 00:58:41.796     0   21    47     11  2018        2\n",
       "2 2018-11-21 01:02:05.796     1   21    47     11  2018        2\n",
       "3 2018-11-21 01:03:13.796     1   21    47     11  2018        2\n",
       "4 2018-11-21 01:05:29.796     1   21    47     11  2018        2"
      ]
     },
     "execution_count": 25,
     "metadata": {},
     "output_type": "execute_result"
    }
   ],
   "source": [
    "df_time = pd.DataFrame(time_data, columns=column_labels)\n",
    "df_time = df_time.drop_duplicates()\n",
    "df_time.head()"
   ]
  },
  {
   "cell_type": "markdown",
   "metadata": {},
   "source": [
    "#### Insert Records into Time Table\n",
    "Implement the `time_table_insert` query in `sql_queries.py` and run the cell below to insert records for the timestamps in this log file into the `time` table. Remember to run `create_tables.py` before running the cell below to ensure you've created/resetted the `time` table in the sparkify database."
   ]
  },
  {
   "cell_type": "code",
   "execution_count": 27,
   "metadata": {},
   "outputs": [
    {
     "name": "stdout",
     "output_type": "stream",
     "text": [
      "Inserting data did not complete without errors.\n",
      "duplicate key value violates unique constraint \"time_pkey\"\n",
      "DETAIL:  Key (start_time)=(2018-11-21 00:57:58.796) already exists.\n",
      "CONTEXT:  COPY time, line 1\n",
      "\n",
      "Connection rollback.\n"
     ]
    }
   ],
   "source": [
    "try:\n",
    "    insert_df_into_table(cur, 'time', df_time)\n",
    "    conn.commit()\n",
    "except psycopg2.Error as e:\n",
    "    print('Inserting data did not complete without errors.')\n",
    "    print(e)\n",
    "    print('Connection rollback.')\n",
    "    conn.rollback()"
   ]
  },
  {
   "cell_type": "markdown",
   "metadata": {},
   "source": [
    "Run `test.ipynb` to see if you've successfully added records to this table."
   ]
  },
  {
   "cell_type": "markdown",
   "metadata": {},
   "source": [
    "## #4: `users` Table\n",
    "#### Extract Data for Users Table\n",
    "- Select columns for user ID, first name, last name, gender and level and set to `user_df`"
   ]
  },
  {
   "cell_type": "code",
   "execution_count": 28,
   "metadata": {},
   "outputs": [],
   "source": [
    "user_columns = ['userId', 'firstName', 'lastName', 'gender', 'level']\n",
    "df_user = df[user_columns]"
   ]
  },
  {
   "cell_type": "code",
   "execution_count": 29,
   "metadata": {},
   "outputs": [],
   "source": [
    "# check data quality\n",
    "df = df.dropna(axis=0)\n",
    "df = df[df['userId'] != '']\n",
    "df_user['userId'] = df_user['userId'].astype(int)\n",
    "df_user = df_user.drop_duplicates(subset='userId', keep='last')\n"
   ]
  },
  {
   "cell_type": "markdown",
   "metadata": {},
   "source": [
    "#### Insert Records into Users Table\n",
    "Implement the `user_table_insert` query in `sql_queries.py` and run the cell below to insert records for the users in this log file into the `users` table. Remember to run `create_tables.py` before running the cell below to ensure you've created/resetted the `users` table in the sparkify database."
   ]
  },
  {
   "cell_type": "code",
   "execution_count": 31,
   "metadata": {},
   "outputs": [
    {
     "name": "stdout",
     "output_type": "stream",
     "text": [
      "Inserting data did not complete without errors.\n",
      "duplicate key value violates unique constraint \"users_pkey\"\n",
      "DETAIL:  Key (user_id)=(65) already exists.\n",
      "CONTEXT:  COPY users, line 1\n",
      "\n",
      "Connection rollback.\n"
     ]
    }
   ],
   "source": [
    "try:\n",
    "    insert_df_into_table(cur, 'users', df_user)\n",
    "    conn.commit()\n",
    "except psycopg2.Error as e:\n",
    "    print('Inserting data did not complete without errors.')\n",
    "    print(e)\n",
    "    print('Connection rollback.')\n",
    "    conn.rollback()"
   ]
  },
  {
   "cell_type": "markdown",
   "metadata": {},
   "source": [
    "Run `test.ipynb` to see if you've successfully added records to this table."
   ]
  },
  {
   "cell_type": "markdown",
   "metadata": {},
   "source": [
    "## #5: `songplays` Table\n",
    "#### Extract Data and Songplays Table\n",
    "This one is a little more complicated since information from the songs table, artists table, and original log file are all needed for the `songplays` table. Since the log file does not specify an ID for either the song or the artist, you'll need to get the song ID and artist ID by querying the songs and artists tables to find matches based on song title, artist name, and song duration time.\n",
    "- Implement the `song_select` query in `sql_queries.py` to find the song ID and artist ID based on the title, artist name, and duration of a song.\n",
    "- Select the timestamp, user ID, level, song ID, artist ID, session ID, location, and user agent and set to `songplay_data`\n",
    "\n",
    "#### Insert Records into Songplays Table\n",
    "- Implement the `songplay_table_insert` query and run the cell below to insert records for the songplay actions in this log file into the `songplays` table. Remember to run `create_tables.py` before running the cell below to ensure you've created/resetted the `songplays` table in the sparkify database."
   ]
  },
  {
   "cell_type": "code",
   "execution_count": 33,
   "metadata": {},
   "outputs": [],
   "source": [
    "df['songplay_id'] = df['sessionId'].astype(str) + '-' + df['ts'].astype(str)\n",
    "df['start_time'] = pd.to_datetime(df.ts, unit='ms', origin='unix')\n",
    "songplay_columns = ['songplay_id', 'start_time', 'userId', 'level', 'song', \n",
    "                    'artist', 'sessionId', 'location', 'userAgent', 'length']\n",
    "df_songplay = df[songplay_columns].reset_index(drop=True)\n",
    "df_songplay\n",
    "# # insert into temporary table\n",
    "cur.execute(temp_log_data_create)\n",
    "conn.commit()\n",
    "try:\n",
    "    insert_df_into_table(cur, 'temp_log_data', df_songplay)\n",
    "    conn.commit()\n",
    "except psycopg2.Error as e:\n",
    "    print('Inserting data did not complete without errors.')\n",
    "    print(e)\n",
    "    print('Connection rollback.')\n",
    "    conn.rollback()"
   ]
  },
  {
   "cell_type": "code",
   "execution_count": 34,
   "metadata": {},
   "outputs": [],
   "source": [
    "# Join with the data in songs and artists, and insert into songplays\n",
    "cur.execute(join_log_data_songs_artists)\n",
    "conn.commit()"
   ]
  },
  {
   "cell_type": "markdown",
   "metadata": {},
   "source": [
    "Run `test.ipynb` to see if you've successfully added records to this table."
   ]
  },
  {
   "cell_type": "markdown",
   "metadata": {},
   "source": [
    "# Close Connection to Sparkify Database"
   ]
  },
  {
   "cell_type": "code",
   "execution_count": 35,
   "metadata": {},
   "outputs": [],
   "source": [
    "conn.close()"
   ]
  },
  {
   "cell_type": "markdown",
   "metadata": {},
   "source": [
    "# Implement `etl.py`\n",
    "Use what you've completed in this notebook to implement `etl.py`."
   ]
  }
 ],
 "metadata": {
  "kernelspec": {
   "display_name": "Python 3.9.7 ('.venv': venv)",
   "language": "python",
   "name": "python3"
  },
  "language_info": {
   "codemirror_mode": {
    "name": "ipython",
    "version": 3
   },
   "file_extension": ".py",
   "mimetype": "text/x-python",
   "name": "python",
   "nbconvert_exporter": "python",
   "pygments_lexer": "ipython3",
   "version": "3.9.7"
  },
  "vscode": {
   "interpreter": {
    "hash": "c8471d211cdb0404f44a6e01916bd5b67b5aec37fe8cb020397b448b1293851c"
   }
  }
 },
 "nbformat": 4,
 "nbformat_minor": 2
}
